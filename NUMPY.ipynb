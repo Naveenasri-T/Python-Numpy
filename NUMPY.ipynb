{
 "cells": [
  {
   "cell_type": "markdown",
   "metadata": {},
   "source": [
    "#  NUMERICAL PYTHON (NUMPY)"
   ]
  },
  {
   "cell_type": "markdown",
   "metadata": {},
   "source": [
    "**import numpy**"
   ]
  },
  {
   "cell_type": "code",
   "execution_count": null,
   "metadata": {},
   "outputs": [],
   "source": [
    "import numpy as np"
   ]
  },
  {
   "cell_type": "markdown",
   "metadata": {},
   "source": [
    "Checking Numpy Version"
   ]
  },
  {
   "cell_type": "code",
   "execution_count": 3,
   "metadata": {},
   "outputs": [
    {
     "name": "stdout",
     "output_type": "stream",
     "text": [
      "1.26.1\n"
     ]
    }
   ],
   "source": [
    "print(np.__version__)"
   ]
  },
  {
   "cell_type": "markdown",
   "metadata": {},
   "source": [
    "Create a Numpy ndarray "
   ]
  },
  {
   "cell_type": "code",
   "execution_count": 2,
   "metadata": {},
   "outputs": [
    {
     "name": "stdout",
     "output_type": "stream",
     "text": [
      "[1 2 3 4 5]\n"
     ]
    }
   ],
   "source": [
    "arr= np.array([1,2,3,4,5])\n",
    "print(arr)"
   ]
  },
  {
   "cell_type": "markdown",
   "metadata": {},
   "source": [
    "0-D Arrays"
   ]
  },
  {
   "cell_type": "code",
   "execution_count": 4,
   "metadata": {},
   "outputs": [
    {
     "name": "stdout",
     "output_type": "stream",
     "text": [
      "99\n"
     ]
    }
   ],
   "source": [
    "import numpy as np\n",
    "arr = np.array(99)\n",
    "print(arr)"
   ]
  },
  {
   "cell_type": "markdown",
   "metadata": {},
   "source": [
    "1-D Array"
   ]
  },
  {
   "cell_type": "code",
   "execution_count": 5,
   "metadata": {},
   "outputs": [
    {
     "name": "stdout",
     "output_type": "stream",
     "text": [
      "[1 2 3 4 5]\n"
     ]
    }
   ],
   "source": [
    "arr=np.array([1,2,3,4,5])\n",
    "print(arr)"
   ]
  },
  {
   "cell_type": "markdown",
   "metadata": {},
   "source": [
    "2-D Array"
   ]
  },
  {
   "cell_type": "code",
   "execution_count": 6,
   "metadata": {},
   "outputs": [
    {
     "name": "stdout",
     "output_type": "stream",
     "text": [
      "[[1 2 3 4]\n",
      " [6 7 8 9]]\n"
     ]
    }
   ],
   "source": [
    "import numpy as np\n",
    "arr=np.array([[1,2,3,4],[6,7,8,9]])\n",
    "print(arr)"
   ]
  },
  {
   "cell_type": "markdown",
   "metadata": {},
   "source": [
    "3-D Array"
   ]
  },
  {
   "cell_type": "code",
   "execution_count": 8,
   "metadata": {},
   "outputs": [
    {
     "name": "stdout",
     "output_type": "stream",
     "text": [
      "[[[ 1  2  3]\n",
      "  [ 4  5  6]]\n",
      "\n",
      " [[ 8  9  0]\n",
      "  [11 23 44]]]\n"
     ]
    }
   ],
   "source": [
    "arr=np.array([[[1,2,3],[4,5,6]],[[8,9,0],[11,23,44]]])\n",
    "print(arr)"
   ]
  },
  {
   "cell_type": "markdown",
   "metadata": {},
   "source": [
    "Check number of  dimensions"
   ]
  },
  {
   "cell_type": "code",
   "execution_count": 13,
   "metadata": {},
   "outputs": [
    {
     "name": "stdout",
     "output_type": "stream",
     "text": [
      "0 dimension\n",
      "1 dimension\n",
      "2 dimension\n",
      "3 dimension\n"
     ]
    }
   ],
   "source": [
    "a=np.array(42)\n",
    "b=np.array([1,2,3,4,5])\n",
    "c=np.array([[1,2,3,4],[6,7,8,9]])\n",
    "d=np.array([[[1,2,3],[4,5,6]],[[8,9,0],[11,23,44]]])\n",
    "print(a.ndim,\"dimension\")\n",
    "print(b.ndim,\"dimension\")\n",
    "print(c.ndim,\"dimension\")\n",
    "print(d.ndim,\"dimension\")\n"
   ]
  },
  {
   "cell_type": "markdown",
   "metadata": {},
   "source": [
    "Access Array Elements"
   ]
  },
  {
   "cell_type": "code",
   "execution_count": 18,
   "metadata": {},
   "outputs": [
    {
     "name": "stdout",
     "output_type": "stream",
     "text": [
      "1\n",
      "7\n",
      "1\n",
      "8\n"
     ]
    }
   ],
   "source": [
    "import numpy as np\n",
    "arr=np.array([1,2,3,4])\n",
    "print(arr[0])\n",
    "print(arr[2]+arr[3])\n",
    "print(arr[2]-arr[1])\n",
    "print(arr[1]*arr[3])"
   ]
  },
  {
   "cell_type": "markdown",
   "metadata": {},
   "source": [
    "Accass 2-D array"
   ]
  },
  {
   "cell_type": "code",
   "execution_count": 22,
   "metadata": {},
   "outputs": [
    {
     "name": "stdout",
     "output_type": "stream",
     "text": [
      "3rd element on 1st row: 3\n",
      "2nd element on 2nd row : 7\n"
     ]
    }
   ],
   "source": [
    "arr=np.array([[1,2,3,4],[9,7,8,6]])\n",
    "print(\"3rd element on 1st row:\",arr[0,2])\n",
    "print(\"2nd element on 2nd row :\",arr[1,1])\n",
    "#print(arr[2,0]) it rise index error"
   ]
  },
  {
   "cell_type": "markdown",
   "metadata": {},
   "source": [
    "Range "
   ]
  },
  {
   "cell_type": "code",
   "execution_count": 32,
   "metadata": {},
   "outputs": [
    {
     "name": "stdout",
     "output_type": "stream",
     "text": [
      "[0 1 2 3 4 5 6 7 8 9]\n",
      "[2 3 4 5 6 7 8 9]\n",
      "[ 2  7 12 17]\n"
     ]
    }
   ],
   "source": [
    "a=np.array (range(10))\n",
    "b=np.array(range(2,10))\n",
    "c=np.array(range(2,20,5))\n",
    "print(a)\n",
    "print(b)\n",
    "print(c)"
   ]
  },
  {
   "cell_type": "markdown",
   "metadata": {},
   "source": [
    "Create an array filled with 0's"
   ]
  },
  {
   "cell_type": "code",
   "execution_count": 38,
   "metadata": {},
   "outputs": [
    {
     "name": "stdout",
     "output_type": "stream",
     "text": [
      "[0. 0. 0.]\n"
     ]
    }
   ],
   "source": [
    "import numpy as np \n",
    "print(np.zeros(3))"
   ]
  },
  {
   "cell_type": "markdown",
   "metadata": {},
   "source": [
    "Array filled with 1's"
   ]
  },
  {
   "cell_type": "code",
   "execution_count": 39,
   "metadata": {},
   "outputs": [
    {
     "name": "stdout",
     "output_type": "stream",
     "text": [
      "[1. 1. 1.]\n"
     ]
    }
   ],
   "source": [
    "print(np.ones(3))"
   ]
  },
  {
   "cell_type": "markdown",
   "metadata": {},
   "source": [
    "Full Array"
   ]
  },
  {
   "cell_type": "code",
   "execution_count": 48,
   "metadata": {},
   "outputs": [
    {
     "name": "stdout",
     "output_type": "stream",
     "text": [
      "[[50 50 50]\n",
      " [50 50 50]\n",
      " [50 50 50]]\n",
      "[[  10   11 2004]\n",
      " [  10   11 2004]\n",
      " [  10   11 2004]]\n"
     ]
    }
   ],
   "source": [
    "import numpy as np\n",
    "x=np.full((3,3),50)  #np.full(shape,fillvalue)\n",
    "print(x)\n",
    "y=np.full((3,3),[10,11,2004])\n",
    "print(y)"
   ]
  },
  {
   "cell_type": "markdown",
   "metadata": {},
   "source": [
    "Specifying data type"
   ]
  },
  {
   "cell_type": "code",
   "execution_count": 56,
   "metadata": {},
   "outputs": [
    {
     "name": "stdout",
     "output_type": "stream",
     "text": [
      "[0. 1. 2. 3. 4. 5. 6. 7. 8. 9.]\n",
      "[0 1 2 3 4 5 6 7 8 9]\n"
     ]
    }
   ],
   "source": [
    "x=np.array(range(10),dtype=np.float64)\n",
    "y=np.array(range(10),dtype=np.int32)\n",
    "print(x)\n",
    "print(y)\n"
   ]
  },
  {
   "cell_type": "markdown",
   "metadata": {},
   "source": [
    "Sorting"
   ]
  },
  {
   "cell_type": "code",
   "execution_count": 57,
   "metadata": {},
   "outputs": [
    {
     "name": "stdout",
     "output_type": "stream",
     "text": [
      "[ 1  2  3  3  5  6 11 23 34 44 44 55 55 77]\n"
     ]
    }
   ],
   "source": [
    "import numpy as np\n",
    "arr=np.array([11,23,1,2,3,34,55,77,6,5,44,55,3,44])\n",
    "print(np.sort(arr))"
   ]
  },
  {
   "cell_type": "markdown",
   "metadata": {},
   "source": [
    "Concatenate"
   ]
  },
  {
   "cell_type": "code",
   "execution_count": 58,
   "metadata": {},
   "outputs": [
    {
     "name": "stdout",
     "output_type": "stream",
     "text": [
      "[1 2 3 4 5 6 7 8]\n"
     ]
    }
   ],
   "source": [
    "a=np.array([1,2,3,4])\n",
    "b=np.array([5,6,7,8])\n",
    "x=np.concatenate((a,b))\n",
    "print(x)"
   ]
  },
  {
   "cell_type": "code",
   "execution_count": 10,
   "metadata": {},
   "outputs": [
    {
     "name": "stdout",
     "output_type": "stream",
     "text": [
      "[[1 2]\n",
      " [3 4]\n",
      " [5 6]]\n"
     ]
    }
   ],
   "source": [
    "import numpy as np\n",
    "x = np.array([[1, 2], [3, 4]])\n",
    "y = np.array([[5, 6]])\n",
    "x=np.concatenate((x,y),axis=0)\n",
    "print(x)\n",
    "                  "
   ]
  },
  {
   "cell_type": "markdown",
   "metadata": {},
   "source": [
    "Numpy array dimension, shape , size"
   ]
  },
  {
   "cell_type": "code",
   "execution_count": 11,
   "metadata": {},
   "outputs": [
    {
     "name": "stdout",
     "output_type": "stream",
     "text": [
      "3\n",
      "(1, 5, 4)\n",
      "20\n"
     ]
    }
   ],
   "source": [
    "import numpy as np \n",
    "x=np.array([[[1,2,3,4],[0,9,8,7],[12,13,14,5],[44,55,66,77],[99,8,77,33]]])\n",
    "print(x.ndim)\n",
    "print(x.shape)\n",
    "print(x.size)\n"
   ]
  },
  {
   "cell_type": "markdown",
   "metadata": {},
   "source": [
    "Reshape"
   ]
  },
  {
   "cell_type": "code",
   "execution_count": 15,
   "metadata": {},
   "outputs": [
    {
     "name": "stdout",
     "output_type": "stream",
     "text": [
      "[0 1 2 3 4 5]\n",
      "[[0 1]\n",
      " [2 3]\n",
      " [4 5]]\n"
     ]
    }
   ],
   "source": [
    "a=np.arange(6)\n",
    "print(a)\n",
    "b=a.reshape(3,2)\n",
    "print(b)"
   ]
  },
  {
   "cell_type": "markdown",
   "metadata": {},
   "source": [
    "Indexing and slicing"
   ]
  },
  {
   "cell_type": "code",
   "execution_count": 16,
   "metadata": {},
   "outputs": [
    {
     "name": "stdout",
     "output_type": "stream",
     "text": [
      "11\n",
      "[11 33]\n",
      "[33 55 66 77 88 99  0  1  2  3  4  5  6  7]\n",
      "[11]\n",
      "[11 33 55 66 77 88 99  0  1  2  3  4  5  6]\n",
      "[6 7]\n",
      "[55 66 77 88 99  0  1  2  3]\n"
     ]
    }
   ],
   "source": [
    "import numpy as np\n",
    "d=np.array([11,33,55,66,77,88,99,0,1,2,3,4,5,6,7])\n",
    "print(d[0])\n",
    "print(d[0:2])\n",
    "print(d[1:])\n",
    "print(d[:1])\n",
    "print(d[:-1])\n",
    "print(d[-2:])\n",
    "print(d[2:-4])"
   ]
  },
  {
   "cell_type": "code",
   "execution_count": 17,
   "metadata": {},
   "outputs": [
    {
     "name": "stdout",
     "output_type": "stream",
     "text": [
      "[1 2 3 4 0 5]\n",
      "[ 9  8  7 12 13 14 44 55 66 77 99  8 77 33]\n"
     ]
    }
   ],
   "source": [
    "x=np.array([[[1,2,3,4],[0,9,8,7],[12,13,14,5],[44,55,66,77],[99,8,77,33]]])\n",
    "print(x[x<=6])\n",
    "print(x[x>=6])\n"
   ]
  },
  {
   "cell_type": "code",
   "execution_count": 20,
   "metadata": {},
   "outputs": [
    {
     "name": "stdout",
     "output_type": "stream",
     "text": [
      "[[[ 1  2  3  4]\n",
      "  [ 0  9  8  7]\n",
      "  [12 13 14  5]\n",
      "  [44 55 66 77]\n",
      "  [99  8 77 33]]]\n",
      "[[1 2 3 4]\n",
      " [0 9 8 7]]\n"
     ]
    }
   ],
   "source": [
    "a=np.array([[[1,2,3,4],[0,9,8,7],[12,13,14,5],[44,55,66,77],[99,8,77,33]]])\n",
    "print(a[::])\n",
    "print(a[0,0:2])"
   ]
  },
  {
   "cell_type": "markdown",
   "metadata": {},
   "source": [
    "## AGGREATION"
   ]
  },
  {
   "cell_type": "code",
   "execution_count": 22,
   "metadata": {},
   "outputs": [
    {
     "name": "stdout",
     "output_type": "stream",
     "text": [
      "Sum 6\n",
      "Average 2.0\n",
      "min 1\n",
      "max 1\n",
      "product 6\n",
      "mean 2.0\n"
     ]
    }
   ],
   "source": [
    "import numpy as np\n",
    "a=np.sum([1,2,3])\n",
    "print(\"Sum\",a)\n",
    "b=np.average([1,2,3])\n",
    "print(\"Average\",b)\n",
    "c=np.min([1,2,3])\n",
    "print(\"min\",c)\n",
    "d=np.max([1,2,3])\n",
    "print(\"max\",c)\n",
    "e=np.prod([1,2,3])\n",
    "print(\"product\",e)\n",
    "f=np.mean([1,2,3])\n",
    "print(\"mean\",f)\n"
   ]
  },
  {
   "cell_type": "markdown",
   "metadata": {},
   "source": [
    "maximum()"
   ]
  },
  {
   "cell_type": "code",
   "execution_count": 23,
   "metadata": {},
   "outputs": [
    {
     "name": "stdout",
     "output_type": "stream",
     "text": [
      "[19 55 33 99 55]\n"
     ]
    }
   ],
   "source": [
    "a=np.array([19,22,33,44,55])\n",
    "b=np.array([12,55,33,99,33])\n",
    "print(np.maximum(a,b))"
   ]
  },
  {
   "cell_type": "markdown",
   "metadata": {},
   "source": [
    "### Matrix Operation using Numpy  "
   ]
  },
  {
   "cell_type": "markdown",
   "metadata": {},
   "source": [
    "Matrix Addition"
   ]
  },
  {
   "cell_type": "code",
   "execution_count": 24,
   "metadata": {},
   "outputs": [
    {
     "name": "stdout",
     "output_type": "stream",
     "text": [
      "[[ 4  6  9]\n",
      " [11 25 27]\n",
      " [29 32 55]]\n"
     ]
    }
   ],
   "source": [
    "import numpy as np\n",
    "x=([[1,2,4],[5,6,7],[8,9,10]])\n",
    "y=([[3,4,5],[6,19,20],[21,23,45]])\n",
    "print (np.add(x,y))"
   ]
  },
  {
   "cell_type": "markdown",
   "metadata": {},
   "source": [
    "Matrix Multiplication"
   ]
  },
  {
   "cell_type": "code",
   "execution_count": 25,
   "metadata": {},
   "outputs": [
    {
     "name": "stdout",
     "output_type": "stream",
     "text": [
      "[[ 99 134 225]\n",
      " [198 295 460]\n",
      " [288 433 670]]\n"
     ]
    }
   ],
   "source": [
    "import numpy as np #dot multiplication\n",
    "x=([[1,2,4],[5,6,7],[8,9,10]])\n",
    "y=([[3,4,5],[6,19,20],[21,23,45]])\n",
    "print(np.dot(x,y))\n"
   ]
  },
  {
   "cell_type": "code",
   "execution_count": 26,
   "metadata": {},
   "outputs": [
    {
     "name": "stdout",
     "output_type": "stream",
     "text": [
      "[[  3   8  20]\n",
      " [ 30 114 140]\n",
      " [168 207 450]]\n"
     ]
    }
   ],
   "source": [
    "import numpy as np\n",
    "x=([[1,2,4],[5,6,7],[8,9,10]])\n",
    "y=([[3,4,5],[6,19,20],[21,23,45]])\n",
    "print(np.multiply(x,y))\n"
   ]
  },
  {
   "cell_type": "markdown",
   "metadata": {},
   "source": [
    "Transpose of matrix"
   ]
  },
  {
   "cell_type": "code",
   "execution_count": 27,
   "metadata": {},
   "outputs": [
    {
     "name": "stdout",
     "output_type": "stream",
     "text": [
      "[[ 1  2  4]\n",
      " [ 5  6  7]\n",
      " [ 8  9 10]]\n",
      "\n",
      "transepose of matrix is: \n",
      "[[ 1  5  8]\n",
      " [ 2  6  9]\n",
      " [ 4  7 10]]\n"
     ]
    }
   ],
   "source": [
    "import numpy as np\n",
    "x=([[1,2,4],[5,6,7],[8,9,10]])\n",
    "y=([[3,4,5],[6,19,20],[21,23,45]])\n",
    "print(np.array(x))\n",
    "print()\n",
    "print(\"transepose of matrix is: \")\n",
    "print(np.transpose(x))\n"
   ]
  },
  {
   "cell_type": "markdown",
   "metadata": {},
   "source": [
    "Zero matrix"
   ]
  },
  {
   "cell_type": "code",
   "execution_count": 28,
   "metadata": {},
   "outputs": [
    {
     "name": "stdout",
     "output_type": "stream",
     "text": [
      "[[0 0 0]\n",
      " [0 0 0]\n",
      " [0 0 0]]\n"
     ]
    }
   ],
   "source": [
    "import numpy as np\n",
    "x=np.zeros((3,3),dtype=int)\n",
    "print(x)"
   ]
  },
  {
   "cell_type": "markdown",
   "metadata": {},
   "source": [
    "Once matrix"
   ]
  },
  {
   "cell_type": "code",
   "execution_count": 29,
   "metadata": {},
   "outputs": [
    {
     "name": "stdout",
     "output_type": "stream",
     "text": [
      "[[1 1 1]\n",
      " [1 1 1]\n",
      " [1 1 1]]\n"
     ]
    }
   ],
   "source": [
    "import numpy as np\n",
    "x= np.ones((3,3),dtype=int)\n",
    "print(x)"
   ]
  },
  {
   "cell_type": "markdown",
   "metadata": {},
   "source": [
    "numpy operations"
   ]
  },
  {
   "cell_type": "code",
   "execution_count": null,
   "metadata": {},
   "outputs": [
    {
     "name": "stdout",
     "output_type": "stream",
     "text": [
      "addition of two series: [ 6  8 10 12 14]\n",
      "sub [-4 -4 -4 -4 -4]\n",
      "multi: [ 5 12 21 32 45]\n",
      "division: [0.2        0.33333333 0.42857143 0.5        0.55555556]\n"
     ]
    }
   ],
   "source": [
    "import numpy as np\n",
    "x=np.array([1,2,3,4,5])\n",
    "y=np.array([5,6,7,8,9,])\n",
    "print(\"addition of two series:\",x+y)\n",
    "print(\"sub\",x-y)\n",
    "print(\"multi:\",x*y)\n",
    "print(\"division:\",x/y)"
   ]
  },
  {
   "cell_type": "markdown",
   "metadata": {},
   "source": [
    "List to numpy by appending list"
   ]
  },
  {
   "cell_type": "code",
   "execution_count": null,
   "metadata": {},
   "outputs": [],
   "source": [
    "import numpy as np\n",
    "n=int(input(\"enter the element\"))\n",
    "l=[]\n",
    "for i in range (n):\n",
    "  e=int(input(\"ente the values\"))\n",
    "  l.append(e)\n",
    "print(l)\n",
    "print(np.array(l))\n",
    "tupl=(1,2,3,4,5)\n",
    "print(np.array(tupl))"
   ]
  },
  {
   "cell_type": "markdown",
   "metadata": {},
   "source": [
    "List to numpy "
   ]
  },
  {
   "cell_type": "code",
   "execution_count": 1,
   "metadata": {},
   "outputs": [
    {
     "name": "stdout",
     "output_type": "stream",
     "text": [
      "[1, 2, 3, 4, 5.88, 66]\n",
      "the one dimensional array are :\n",
      "[ 1.    2.    3.    4.    5.88 66.  ]\n"
     ]
    }
   ],
   "source": [
    "import numpy as np\n",
    "list=[1,2,3,4,5.88,66]\n",
    "print(list)\n",
    "print(\"the one dimensional array are :\")\n",
    "print(np.array(list))\n"
   ]
  },
  {
   "cell_type": "markdown",
   "metadata": {},
   "source": [
    "### RANDOM"
   ]
  },
  {
   "cell_type": "code",
   "execution_count": 5,
   "metadata": {},
   "outputs": [
    {
     "name": "stdout",
     "output_type": "stream",
     "text": [
      "13\n"
     ]
    }
   ],
   "source": [
    "from numpy import random\n",
    "x=random.randint(100)\n",
    "print(x)"
   ]
  },
  {
   "cell_type": "code",
   "execution_count": 6,
   "metadata": {},
   "outputs": [
    {
     "name": "stdout",
     "output_type": "stream",
     "text": [
      "[[69 68 43 82]\n",
      " [43 84 97 89]\n",
      " [16  3 92 70]]\n"
     ]
    }
   ],
   "source": [
    "x=random.randint(100,size=(3,4))\n",
    "print(x)"
   ]
  },
  {
   "cell_type": "markdown",
   "metadata": {},
   "source": [
    "Creating random 5 flots"
   ]
  },
  {
   "cell_type": "code",
   "execution_count": 7,
   "metadata": {},
   "outputs": [
    {
     "name": "stdout",
     "output_type": "stream",
     "text": [
      "[0.21675284 0.07955377 0.71373429 0.64827883 0.93841325]\n"
     ]
    }
   ],
   "source": [
    "from numpy import random \n",
    "x=random.rand(5)\n",
    "print(x)"
   ]
  },
  {
   "cell_type": "markdown",
   "metadata": {},
   "source": [
    "2-D with three rows 5 random numbers"
   ]
  },
  {
   "cell_type": "code",
   "execution_count": 8,
   "metadata": {},
   "outputs": [
    {
     "name": "stdout",
     "output_type": "stream",
     "text": [
      "[[0.88555408 0.98516178 0.39657976 0.54899711 0.63440155]\n",
      " [0.74781216 0.93250048 0.2475626  0.83760464 0.31065886]\n",
      " [0.86657569 0.00569901 0.52979538 0.74766254 0.40693499]]\n"
     ]
    }
   ],
   "source": [
    "x=random.rand(3,5)\n",
    "print(x)"
   ]
  },
  {
   "cell_type": "markdown",
   "metadata": {},
   "source": [
    "Random number from array"
   ]
  },
  {
   "cell_type": "code",
   "execution_count": 9,
   "metadata": {},
   "outputs": [
    {
     "name": "stdout",
     "output_type": "stream",
     "text": [
      "6\n"
     ]
    }
   ],
   "source": [
    "x=random.choice([3,5,6,7,8,9,0])\n",
    "print(x)"
   ]
  },
  {
   "cell_type": "markdown",
   "metadata": {},
   "source": [
    "### Numpy logs"
   ]
  },
  {
   "cell_type": "markdown",
   "metadata": {},
   "source": [
    "function perform a log at the base 2 log2()"
   ]
  },
  {
   "cell_type": "code",
   "execution_count": 13,
   "metadata": {},
   "outputs": [
    {
     "name": "stdout",
     "output_type": "stream",
     "text": [
      "[0.         1.         1.5849625  2.         2.32192809 2.5849625\n",
      " 2.80735492 3.        ]\n"
     ]
    }
   ],
   "source": [
    "import numpy as np\n",
    "arr = np.arange(1,9)\n",
    "print(np.log2(arr))"
   ]
  },
  {
   "cell_type": "code",
   "execution_count": 16,
   "metadata": {},
   "outputs": [
    {
     "name": "stdout",
     "output_type": "stream",
     "text": [
      "[0.         0.30103    0.47712125 0.60205999 0.69897    0.77815125\n",
      " 0.84509804 0.90308999]\n"
     ]
    }
   ],
   "source": [
    "#it performs log at base 10\n",
    "arr= np.arange(1,9)\n",
    "print(np.log10(arr))"
   ]
  },
  {
   "cell_type": "code",
   "execution_count": 18,
   "metadata": {},
   "outputs": [
    {
     "name": "stdout",
     "output_type": "stream",
     "text": [
      "[0.         0.69314718 1.09861229 1.38629436 1.60943791 1.79175947\n",
      " 1.94591015 2.07944154]\n"
     ]
    }
   ],
   "source": [
    "#log at base e\n",
    "arr= np.arange(1,9)\n",
    "print(np.log(arr))"
   ]
  },
  {
   "cell_type": "markdown",
   "metadata": {},
   "source": [
    "##### Finding LCM in two numbers"
   ]
  },
  {
   "cell_type": "code",
   "execution_count": 19,
   "metadata": {},
   "outputs": [
    {
     "name": "stdout",
     "output_type": "stream",
     "text": [
      "18\n"
     ]
    }
   ],
   "source": [
    "import numpy as np \n",
    "num1=6\n",
    "num2=9\n",
    "x=np.lcm(num1,num2)\n",
    "print(x)"
   ]
  },
  {
   "cell_type": "markdown",
   "metadata": {},
   "source": [
    "##### Finding GCD"
   ]
  },
  {
   "cell_type": "code",
   "execution_count": 20,
   "metadata": {},
   "outputs": [
    {
     "name": "stdout",
     "output_type": "stream",
     "text": [
      "3\n"
     ]
    }
   ],
   "source": [
    "import numpy as np \n",
    "num1=6\n",
    "num2=9\n",
    "x=np.gcd(num1,num2)\n",
    "print(x)"
   ]
  },
  {
   "cell_type": "markdown",
   "metadata": {},
   "source": [
    "##### NUMPY SET OPERATION"
   ]
  },
  {
   "cell_type": "markdown",
   "metadata": {},
   "source": [
    "Finding union"
   ]
  },
  {
   "cell_type": "code",
   "execution_count": 22,
   "metadata": {},
   "outputs": [
    {
     "name": "stdout",
     "output_type": "stream",
     "text": [
      "[1 2 3 4 5 6]\n"
     ]
    }
   ],
   "source": [
    "import numpy as np\n",
    "arr1 = np.array([1, 2, 3, 4])\n",
    "arr2 = np.array([3, 4, 5, 6])\n",
    "newarr = np.union1d(arr1, arr2)\n",
    "print(newarr)"
   ]
  },
  {
   "cell_type": "markdown",
   "metadata": {},
   "source": [
    "Intersection"
   ]
  },
  {
   "cell_type": "code",
   "execution_count": 23,
   "metadata": {},
   "outputs": [
    {
     "name": "stdout",
     "output_type": "stream",
     "text": [
      "[3 4]\n"
     ]
    }
   ],
   "source": [
    "import numpy as np\n",
    "arr1 = np.array([1, 2, 3, 4])\n",
    "arr2 = np.array([3, 4, 5, 6])\n",
    "newarr = np.intersect1d(arr1, arr2)\n",
    "print(newarr)"
   ]
  }
 ],
 "metadata": {
  "kernelspec": {
   "display_name": "Python 3",
   "language": "python",
   "name": "python3"
  },
  "language_info": {
   "codemirror_mode": {
    "name": "ipython",
    "version": 3
   },
   "file_extension": ".py",
   "mimetype": "text/x-python",
   "name": "python",
   "nbconvert_exporter": "python",
   "pygments_lexer": "ipython3",
   "version": "3.11.6"
  }
 },
 "nbformat": 4,
 "nbformat_minor": 2
}
